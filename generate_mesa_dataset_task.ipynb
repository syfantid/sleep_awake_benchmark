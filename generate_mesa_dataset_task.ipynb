{
 "cells": [
  {
   "cell_type": "code",
   "execution_count": 5,
   "outputs": [],
   "source": [
    "from typing import Union, Any\n",
    "\n",
    "import pandas as pd\n",
    "import numpy as np\n",
    "# required by pd.read_csv. It expects an object with a .read() method.\n",
    "# from StringIO import StringIO\n",
    "from datetime import datetime, timedelta\n",
    "from glob import glob\n",
    "from bs4 import BeautifulSoup\n",
    "import gzip\n",
    "import os\n",
    "\n",
    "from pandas import Series, DataFrame#%%\n",
    "from typing import Union, Any\n",
    "\n",
    "import pandas as pd\n",
    "import numpy as np\n",
    "# required by pd.read_csv. It expects an object with a .read() method.\n",
    "# from StringIO import StringIO\n",
    "from datetime import datetime, timedelta\n",
    "from glob import glob\n",
    "from bs4 import BeautifulSoup\n",
    "import gzip\n",
    "import os\n",
    "\n",
    "from pandas import Series, DataFrame"
   ],
   "metadata": {
    "collapsed": false
   }
  },
  {
   "cell_type": "code",
   "execution_count": 21,
   "outputs": [],
   "source": [
    "def getOverlap(mesaid, overlap_file=\"C:\\\\Users\\\\syfan\\\\PycharmProjects\\\\sequential-behavioral-data-fairness\\\\data\\\\mesa\\\\raw\\\\mesa\\\\overlap\\\\mesa-actigraphy-psg-overlap.csv\"):\n",
    "    df = pd.read_csv(overlap_file)\n",
    "    df = df[df[\"mesaid\"] == mesaid]\n",
    "    if df.empty:\n",
    "        print(\"ERROR: mesaid %d not found in overlap file\" % (mesaid))\n",
    "        return None\n",
    "    return df.values[0][1] # (mesaid, line, timeactigraph, timepsg)\n",
    "\n",
    "def extractAcigraphy(mesaid):\n",
    "    # Start to extract Actigraphy actValue\n",
    "    try:\n",
    "        act_file = \"C:\\\\Users\\\\syfan\\\\PycharmProjects\\\\sequential-behavioral-data-fairness\\\\data\\\\mesa\\\\raw\\\\mesa\\\\actigraphy\\\\mesa-sleep-{:04d}.csv\".format(mesaid)\n",
    "        # act_file = \"data/mesa/actigraphy/mesa-sleep-%04d.csv.gz\" % (mesaid)\n",
    "        df = load_mesa(act_file)\n",
    "        return df\n",
    "    except:\n",
    "        return None\n",
    "\n",
    "def extractPSG(mesaid):\n",
    "    # Start to extract PSG sleep scores\n",
    "    profusion_file = \"C:\\\\Users\\\\syfan\\\\PycharmProjects\\\\sequential-behavioral-data-fairness\\\\data\\\\mesa\\\\raw\\\\mesa\\\\polysomnography\\\\annotations-events-profusion\\\\mesa-sleep-{:04d}-profusion.xml\".format(mesaid)\n",
    "    # profusion_file = \"./data/mesa/polysomnography/annotations-events-profusion/mesa-sleep-%04d-profusion.xml.gz\" % (mesaid)\n",
    "    try:\n",
    "        with open(profusion_file, 'r') as f:\n",
    "            soup = BeautifulSoup(f, 'xml')\n",
    "\n",
    "        stages = []\n",
    "        for c in soup.CMPStudyConfig.SleepStages:\n",
    "            stages.append(c.string)\n",
    "\n",
    "        return stages\n",
    "    except:\n",
    "        return None\n",
    "\n",
    "def load_mesa(filename):\n",
    "    \"\"\"\n",
    "        Load all the mesa files\n",
    "    \"\"\"\n",
    "\n",
    "    df = pd.read_csv(filename, index_col=\"line\")\n",
    "\n",
    "    ts = get_timestamp(\"1/1/1900\", df.iloc[0][\"linetime\"])\n",
    "    pts = pd.Timestamp(ts)\n",
    "    df[\"linetime\"] = pd.date_range(pts, periods=df.shape[0], freq='30S')\n",
    "\n",
    "    return df\n",
    "\n",
    "def get_timestamp(start_date, start_time):\n",
    "    return datetime.strptime(start_date + \" \" + start_time, '%m/%d/%Y %H:%M:%S')\n",
    "\n",
    "def get_time_interval(n):\n",
    "    minutes = n / 2\n",
    "    hours = minutes/ 60\n",
    "    rest_minutes = minutes - (hours * 60)\n",
    "    rest_seconds = \"30\" if n%2 == 1 else \"00\"\n",
    "    return \"%02d:%02d:%s\" % (hours, rest_minutes, rest_seconds)"
   ],
   "metadata": {
    "collapsed": false
   }
  },
  {
   "cell_type": "code",
   "execution_count": 24,
   "outputs": [],
   "source": [
    "def process(mesaid, task):\n",
    "    \"\"\"\n",
    "    - mesaid: Integer representing a valid mesaid.\n",
    "\n",
    "    - task:\n",
    "         * task1 (PSG time)\n",
    "         * task2 (24 hours)\n",
    "    \"\"\"\n",
    "    print(\"Processing %d...\" % (mesaid))\n",
    "\n",
    "    # Extract Actigraphy data\n",
    "    df = extractAcigraphy(mesaid)\n",
    "    if df is None:\n",
    "        print(\"Actigraphy not found for mesaid %d. Aborting...\" % (mesaid))\n",
    "        return None\n",
    "\n",
    "    # Extract PSG data\n",
    "    stages = extractPSG(mesaid)\n",
    "    if stages is None:\n",
    "        print(\"PSG not found for mesaid %d. Aborting...\" % (mesaid))\n",
    "        return None\n",
    "\n",
    "    stages = list(map(int, stages))\n",
    "\n",
    "\n",
    "    # If recording for more than 16 hours, we do not use this mesaid\n",
    "    if len(stages) > 1920:\n",
    "        print(\"PSG recording was longer than 16 hours for mesaid %d.\" % (mesaid))\n",
    "        print(\"Aborting...\")\n",
    "        return None\n",
    "\n",
    "    # Extract overlap index\n",
    "    overlapidx = getOverlap(mesaid)\n",
    "\n",
    "    if overlapidx is None:\n",
    "        print(\"Problems with mesaid %d. Aborting...\" % (mesaid))\n",
    "        return None\n",
    "\n",
    "    #return df, stages, overlapidx\n",
    "\n",
    "    # Creates an extra col with PSG data and fills up data with stages\n",
    "    df[\"stage\"] = None\n",
    "    stages_length = len(stages)\n",
    "    df.loc[overlapidx:overlapidx+stages_length-1, \"stage\"] = stages\n",
    "\n",
    "    # Task 1: only PSG data is kept\n",
    "    if task == 1:\n",
    "        df = df[~df[\"stage\"].isnull()]\n",
    "\n",
    "    elif task == 2: # aims to get 960 (8 hours) intervals before and after PSG\n",
    "        startidx = max(0, overlapidx - 960)\n",
    "        endidx = min(df.shape[0], overlapidx+len(stages)-1 + 960)\n",
    "        df = df.loc[startidx: endidx]\n",
    "\n",
    "    # Generates the ground truth data:\n",
    "    if task == 1:\n",
    "        df[\"gt\"] = (df[\"stage\"] > 0)\n",
    "\n",
    "    elif task == 2:\n",
    "        # ...uses GT as the PSG states and uses \"interval\" data for the rest....\n",
    "        df[\"gt\"] = None\n",
    "        beforePSG = df.loc[:overlapidx-1].copy()\n",
    "        duringPSG = df.loc[overlapidx: overlapidx+len(stages)-2].copy()\n",
    "        afterPSG = df.loc[overlapidx+(len(stages))-1:].copy()\n",
    "\n",
    "        beforePSG[\"gt\"] = beforePSG[\"interval\"].apply(lambda x: x in [\"REST\", \"REST-S\"])\n",
    "        afterPSG[\"gt\"] = afterPSG[\"interval\"].apply(lambda x: x in [\"REST\", \"REST-S\"])\n",
    "        duringPSG[\"gt\"] =  (duringPSG[\"stage\"] > 0)\n",
    "        df = pd.concat((beforePSG,duringPSG,afterPSG))\n",
    "\n",
    "    df[\"gt\"] = df[\"gt\"].astype(int)\n",
    "\n",
    "    dflenght = df.shape[0]\n",
    "    print(\"Final df duration %s (%d intervals) -- From %s to %s\" % (get_time_interval(dflenght),dflenght, df.head(1)[\"linetime\"].values[0], df.tail(1)[\"linetime\"].values[0]))\n",
    "\n",
    "    # Resets index\n",
    "    df: Union[Union[Series, DataFrame], Any] = df.reset_index(drop=True)\n",
    "\n",
    "    return df"
   ],
   "metadata": {
    "collapsed": false
   }
  },
  {
   "cell_type": "code",
   "execution_count": 25,
   "outputs": [
    {
     "name": "stdout",
     "output_type": "stream",
     "text": [
      "Processing 1...\n",
      "Final df duration 11:00:30 (1439 intervals) -- From 1900-01-01T20:30:00.000000000 to 1900-01-02T08:29:00.000000000\n"
     ]
    },
    {
     "data": {
      "text/plain": "      mesaid            linetime  offwrist  activity  marker  whitelight  \\\n0          1 1900-01-01 20:30:00         0       0.0     0.0        0.07   \n1          1 1900-01-01 20:30:30         0       0.0     0.0        0.07   \n2          1 1900-01-01 20:31:00         0       0.0     0.0        0.21   \n3          1 1900-01-01 20:31:30         0       0.0     0.0        0.21   \n4          1 1900-01-01 20:32:00         0       0.0     0.0        0.21   \n...      ...                 ...       ...       ...     ...         ...   \n1434       1 1900-01-02 08:27:00         0      56.0     0.0       68.53   \n1435       1 1900-01-02 08:27:30         0      85.0     0.0       28.01   \n1436       1 1900-01-02 08:28:00         0      24.0     0.0        1.31   \n1437       1 1900-01-02 08:28:30         0      49.0     0.0        2.89   \n1438       1 1900-01-02 08:29:00         0      46.0     0.0        1.10   \n\n      redlight  greenlight  bluelight  wake interval  dayofweek  \\\n0       0.0292      0.0000     0.0059   0.0   ACTIVE          5   \n1       0.0292      0.0000     0.0059   0.0   ACTIVE          5   \n2       0.0256      0.0173     0.0059   0.0   ACTIVE          5   \n3       0.0256      0.0173     0.0059   0.0   ACTIVE          5   \n4       0.0256      0.0173     0.0059   0.0   ACTIVE          5   \n...        ...         ...        ...   ...      ...        ...   \n1434    3.5700      6.7000     1.7900   1.0   ACTIVE          6   \n1435    2.3200      2.5300     0.6890   1.0   ACTIVE          6   \n1436    0.1420      0.1120     0.0162   1.0   ACTIVE          6   \n1437    0.2600      0.2600     0.0370   1.0   ACTIVE          6   \n1438    0.1330      0.0880     0.0292   1.0   ACTIVE          6   \n\n      daybymidnight  daybynoon stage  gt  \n0                 1          1     0   0  \n1                 1          1     0   0  \n2                 1          1     0   0  \n3                 1          1     0   0  \n4                 1          1     0   0  \n...             ...        ...   ...  ..  \n1434              2          1     0   0  \n1435              2          1     0   0  \n1436              2          1     0   0  \n1437              2          1     0   0  \n1438              2          1     0   0  \n\n[1439 rows x 16 columns]",
      "text/html": "<div>\n<style scoped>\n    .dataframe tbody tr th:only-of-type {\n        vertical-align: middle;\n    }\n\n    .dataframe tbody tr th {\n        vertical-align: top;\n    }\n\n    .dataframe thead th {\n        text-align: right;\n    }\n</style>\n<table border=\"1\" class=\"dataframe\">\n  <thead>\n    <tr style=\"text-align: right;\">\n      <th></th>\n      <th>mesaid</th>\n      <th>linetime</th>\n      <th>offwrist</th>\n      <th>activity</th>\n      <th>marker</th>\n      <th>whitelight</th>\n      <th>redlight</th>\n      <th>greenlight</th>\n      <th>bluelight</th>\n      <th>wake</th>\n      <th>interval</th>\n      <th>dayofweek</th>\n      <th>daybymidnight</th>\n      <th>daybynoon</th>\n      <th>stage</th>\n      <th>gt</th>\n    </tr>\n  </thead>\n  <tbody>\n    <tr>\n      <th>0</th>\n      <td>1</td>\n      <td>1900-01-01 20:30:00</td>\n      <td>0</td>\n      <td>0.0</td>\n      <td>0.0</td>\n      <td>0.07</td>\n      <td>0.0292</td>\n      <td>0.0000</td>\n      <td>0.0059</td>\n      <td>0.0</td>\n      <td>ACTIVE</td>\n      <td>5</td>\n      <td>1</td>\n      <td>1</td>\n      <td>0</td>\n      <td>0</td>\n    </tr>\n    <tr>\n      <th>1</th>\n      <td>1</td>\n      <td>1900-01-01 20:30:30</td>\n      <td>0</td>\n      <td>0.0</td>\n      <td>0.0</td>\n      <td>0.07</td>\n      <td>0.0292</td>\n      <td>0.0000</td>\n      <td>0.0059</td>\n      <td>0.0</td>\n      <td>ACTIVE</td>\n      <td>5</td>\n      <td>1</td>\n      <td>1</td>\n      <td>0</td>\n      <td>0</td>\n    </tr>\n    <tr>\n      <th>2</th>\n      <td>1</td>\n      <td>1900-01-01 20:31:00</td>\n      <td>0</td>\n      <td>0.0</td>\n      <td>0.0</td>\n      <td>0.21</td>\n      <td>0.0256</td>\n      <td>0.0173</td>\n      <td>0.0059</td>\n      <td>0.0</td>\n      <td>ACTIVE</td>\n      <td>5</td>\n      <td>1</td>\n      <td>1</td>\n      <td>0</td>\n      <td>0</td>\n    </tr>\n    <tr>\n      <th>3</th>\n      <td>1</td>\n      <td>1900-01-01 20:31:30</td>\n      <td>0</td>\n      <td>0.0</td>\n      <td>0.0</td>\n      <td>0.21</td>\n      <td>0.0256</td>\n      <td>0.0173</td>\n      <td>0.0059</td>\n      <td>0.0</td>\n      <td>ACTIVE</td>\n      <td>5</td>\n      <td>1</td>\n      <td>1</td>\n      <td>0</td>\n      <td>0</td>\n    </tr>\n    <tr>\n      <th>4</th>\n      <td>1</td>\n      <td>1900-01-01 20:32:00</td>\n      <td>0</td>\n      <td>0.0</td>\n      <td>0.0</td>\n      <td>0.21</td>\n      <td>0.0256</td>\n      <td>0.0173</td>\n      <td>0.0059</td>\n      <td>0.0</td>\n      <td>ACTIVE</td>\n      <td>5</td>\n      <td>1</td>\n      <td>1</td>\n      <td>0</td>\n      <td>0</td>\n    </tr>\n    <tr>\n      <th>...</th>\n      <td>...</td>\n      <td>...</td>\n      <td>...</td>\n      <td>...</td>\n      <td>...</td>\n      <td>...</td>\n      <td>...</td>\n      <td>...</td>\n      <td>...</td>\n      <td>...</td>\n      <td>...</td>\n      <td>...</td>\n      <td>...</td>\n      <td>...</td>\n      <td>...</td>\n      <td>...</td>\n    </tr>\n    <tr>\n      <th>1434</th>\n      <td>1</td>\n      <td>1900-01-02 08:27:00</td>\n      <td>0</td>\n      <td>56.0</td>\n      <td>0.0</td>\n      <td>68.53</td>\n      <td>3.5700</td>\n      <td>6.7000</td>\n      <td>1.7900</td>\n      <td>1.0</td>\n      <td>ACTIVE</td>\n      <td>6</td>\n      <td>2</td>\n      <td>1</td>\n      <td>0</td>\n      <td>0</td>\n    </tr>\n    <tr>\n      <th>1435</th>\n      <td>1</td>\n      <td>1900-01-02 08:27:30</td>\n      <td>0</td>\n      <td>85.0</td>\n      <td>0.0</td>\n      <td>28.01</td>\n      <td>2.3200</td>\n      <td>2.5300</td>\n      <td>0.6890</td>\n      <td>1.0</td>\n      <td>ACTIVE</td>\n      <td>6</td>\n      <td>2</td>\n      <td>1</td>\n      <td>0</td>\n      <td>0</td>\n    </tr>\n    <tr>\n      <th>1436</th>\n      <td>1</td>\n      <td>1900-01-02 08:28:00</td>\n      <td>0</td>\n      <td>24.0</td>\n      <td>0.0</td>\n      <td>1.31</td>\n      <td>0.1420</td>\n      <td>0.1120</td>\n      <td>0.0162</td>\n      <td>1.0</td>\n      <td>ACTIVE</td>\n      <td>6</td>\n      <td>2</td>\n      <td>1</td>\n      <td>0</td>\n      <td>0</td>\n    </tr>\n    <tr>\n      <th>1437</th>\n      <td>1</td>\n      <td>1900-01-02 08:28:30</td>\n      <td>0</td>\n      <td>49.0</td>\n      <td>0.0</td>\n      <td>2.89</td>\n      <td>0.2600</td>\n      <td>0.2600</td>\n      <td>0.0370</td>\n      <td>1.0</td>\n      <td>ACTIVE</td>\n      <td>6</td>\n      <td>2</td>\n      <td>1</td>\n      <td>0</td>\n      <td>0</td>\n    </tr>\n    <tr>\n      <th>1438</th>\n      <td>1</td>\n      <td>1900-01-02 08:29:00</td>\n      <td>0</td>\n      <td>46.0</td>\n      <td>0.0</td>\n      <td>1.10</td>\n      <td>0.1330</td>\n      <td>0.0880</td>\n      <td>0.0292</td>\n      <td>1.0</td>\n      <td>ACTIVE</td>\n      <td>6</td>\n      <td>2</td>\n      <td>1</td>\n      <td>0</td>\n      <td>0</td>\n    </tr>\n  </tbody>\n</table>\n<p>1439 rows × 16 columns</p>\n</div>"
     },
     "execution_count": 25,
     "metadata": {},
     "output_type": "execute_result"
    }
   ],
   "source": [
    " process(1, 1)"
   ],
   "metadata": {
    "collapsed": false
   }
  },
  {
   "cell_type": "code",
   "execution_count": 15,
   "outputs": [
    {
     "ename": "FileNotFoundError",
     "evalue": "[Errno 2] No such file or directory: './data/mesa/mesa-sleep-dataset-0.3.0.csv'",
     "output_type": "error",
     "traceback": [
      "\u001B[1;31m---------------------------------------------------------------------------\u001B[0m",
      "\u001B[1;31mFileNotFoundError\u001B[0m                         Traceback (most recent call last)",
      "Cell \u001B[1;32mIn[15], line 5\u001B[0m\n\u001B[0;32m      2\u001B[0m outdir \u001B[38;5;241m=\u001B[39m \u001B[38;5;124m\"\u001B[39m\u001B[38;5;124mdatasets\u001B[39m\u001B[38;5;124m\"\u001B[39m\n\u001B[0;32m      4\u001B[0m variables_file \u001B[38;5;241m=\u001B[39m \u001B[38;5;124m\"\u001B[39m\u001B[38;5;124m./data/mesa/mesa-sleep-dataset-0.3.0.csv\u001B[39m\u001B[38;5;124m\"\u001B[39m\n\u001B[1;32m----> 5\u001B[0m variables \u001B[38;5;241m=\u001B[39m \u001B[43mpd\u001B[49m\u001B[38;5;241;43m.\u001B[39;49m\u001B[43mread_csv\u001B[49m\u001B[43m(\u001B[49m\u001B[43mvariables_file\u001B[49m\u001B[43m)\u001B[49m\n\u001B[0;32m      6\u001B[0m ids \u001B[38;5;241m=\u001B[39m \u001B[38;5;28mlist\u001B[39m(variables[\u001B[38;5;124m\"\u001B[39m\u001B[38;5;124mmesaid\u001B[39m\u001B[38;5;124m\"\u001B[39m]\u001B[38;5;241m.\u001B[39munique())\n\u001B[0;32m      8\u001B[0m problem \u001B[38;5;241m=\u001B[39m []\n",
      "File \u001B[1;32m~\\PycharmProjects\\sleep_awake_benchmark\\venv\\lib\\site-packages\\pandas\\util\\_decorators.py:211\u001B[0m, in \u001B[0;36mdeprecate_kwarg.<locals>._deprecate_kwarg.<locals>.wrapper\u001B[1;34m(*args, **kwargs)\u001B[0m\n\u001B[0;32m    209\u001B[0m     \u001B[38;5;28;01melse\u001B[39;00m:\n\u001B[0;32m    210\u001B[0m         kwargs[new_arg_name] \u001B[38;5;241m=\u001B[39m new_arg_value\n\u001B[1;32m--> 211\u001B[0m \u001B[38;5;28;01mreturn\u001B[39;00m \u001B[43mfunc\u001B[49m\u001B[43m(\u001B[49m\u001B[38;5;241;43m*\u001B[39;49m\u001B[43margs\u001B[49m\u001B[43m,\u001B[49m\u001B[43m \u001B[49m\u001B[38;5;241;43m*\u001B[39;49m\u001B[38;5;241;43m*\u001B[39;49m\u001B[43mkwargs\u001B[49m\u001B[43m)\u001B[49m\n",
      "File \u001B[1;32m~\\PycharmProjects\\sleep_awake_benchmark\\venv\\lib\\site-packages\\pandas\\util\\_decorators.py:331\u001B[0m, in \u001B[0;36mdeprecate_nonkeyword_arguments.<locals>.decorate.<locals>.wrapper\u001B[1;34m(*args, **kwargs)\u001B[0m\n\u001B[0;32m    325\u001B[0m \u001B[38;5;28;01mif\u001B[39;00m \u001B[38;5;28mlen\u001B[39m(args) \u001B[38;5;241m>\u001B[39m num_allow_args:\n\u001B[0;32m    326\u001B[0m     warnings\u001B[38;5;241m.\u001B[39mwarn(\n\u001B[0;32m    327\u001B[0m         msg\u001B[38;5;241m.\u001B[39mformat(arguments\u001B[38;5;241m=\u001B[39m_format_argument_list(allow_args)),\n\u001B[0;32m    328\u001B[0m         \u001B[38;5;167;01mFutureWarning\u001B[39;00m,\n\u001B[0;32m    329\u001B[0m         stacklevel\u001B[38;5;241m=\u001B[39mfind_stack_level(),\n\u001B[0;32m    330\u001B[0m     )\n\u001B[1;32m--> 331\u001B[0m \u001B[38;5;28;01mreturn\u001B[39;00m \u001B[43mfunc\u001B[49m\u001B[43m(\u001B[49m\u001B[38;5;241;43m*\u001B[39;49m\u001B[43margs\u001B[49m\u001B[43m,\u001B[49m\u001B[43m \u001B[49m\u001B[38;5;241;43m*\u001B[39;49m\u001B[38;5;241;43m*\u001B[39;49m\u001B[43mkwargs\u001B[49m\u001B[43m)\u001B[49m\n",
      "File \u001B[1;32m~\\PycharmProjects\\sleep_awake_benchmark\\venv\\lib\\site-packages\\pandas\\io\\parsers\\readers.py:950\u001B[0m, in \u001B[0;36mread_csv\u001B[1;34m(filepath_or_buffer, sep, delimiter, header, names, index_col, usecols, squeeze, prefix, mangle_dupe_cols, dtype, engine, converters, true_values, false_values, skipinitialspace, skiprows, skipfooter, nrows, na_values, keep_default_na, na_filter, verbose, skip_blank_lines, parse_dates, infer_datetime_format, keep_date_col, date_parser, dayfirst, cache_dates, iterator, chunksize, compression, thousands, decimal, lineterminator, quotechar, quoting, doublequote, escapechar, comment, encoding, encoding_errors, dialect, error_bad_lines, warn_bad_lines, on_bad_lines, delim_whitespace, low_memory, memory_map, float_precision, storage_options)\u001B[0m\n\u001B[0;32m    935\u001B[0m kwds_defaults \u001B[38;5;241m=\u001B[39m _refine_defaults_read(\n\u001B[0;32m    936\u001B[0m     dialect,\n\u001B[0;32m    937\u001B[0m     delimiter,\n\u001B[1;32m   (...)\u001B[0m\n\u001B[0;32m    946\u001B[0m     defaults\u001B[38;5;241m=\u001B[39m{\u001B[38;5;124m\"\u001B[39m\u001B[38;5;124mdelimiter\u001B[39m\u001B[38;5;124m\"\u001B[39m: \u001B[38;5;124m\"\u001B[39m\u001B[38;5;124m,\u001B[39m\u001B[38;5;124m\"\u001B[39m},\n\u001B[0;32m    947\u001B[0m )\n\u001B[0;32m    948\u001B[0m kwds\u001B[38;5;241m.\u001B[39mupdate(kwds_defaults)\n\u001B[1;32m--> 950\u001B[0m \u001B[38;5;28;01mreturn\u001B[39;00m \u001B[43m_read\u001B[49m\u001B[43m(\u001B[49m\u001B[43mfilepath_or_buffer\u001B[49m\u001B[43m,\u001B[49m\u001B[43m \u001B[49m\u001B[43mkwds\u001B[49m\u001B[43m)\u001B[49m\n",
      "File \u001B[1;32m~\\PycharmProjects\\sleep_awake_benchmark\\venv\\lib\\site-packages\\pandas\\io\\parsers\\readers.py:605\u001B[0m, in \u001B[0;36m_read\u001B[1;34m(filepath_or_buffer, kwds)\u001B[0m\n\u001B[0;32m    602\u001B[0m _validate_names(kwds\u001B[38;5;241m.\u001B[39mget(\u001B[38;5;124m\"\u001B[39m\u001B[38;5;124mnames\u001B[39m\u001B[38;5;124m\"\u001B[39m, \u001B[38;5;28;01mNone\u001B[39;00m))\n\u001B[0;32m    604\u001B[0m \u001B[38;5;66;03m# Create the parser.\u001B[39;00m\n\u001B[1;32m--> 605\u001B[0m parser \u001B[38;5;241m=\u001B[39m \u001B[43mTextFileReader\u001B[49m\u001B[43m(\u001B[49m\u001B[43mfilepath_or_buffer\u001B[49m\u001B[43m,\u001B[49m\u001B[43m \u001B[49m\u001B[38;5;241;43m*\u001B[39;49m\u001B[38;5;241;43m*\u001B[39;49m\u001B[43mkwds\u001B[49m\u001B[43m)\u001B[49m\n\u001B[0;32m    607\u001B[0m \u001B[38;5;28;01mif\u001B[39;00m chunksize \u001B[38;5;129;01mor\u001B[39;00m iterator:\n\u001B[0;32m    608\u001B[0m     \u001B[38;5;28;01mreturn\u001B[39;00m parser\n",
      "File \u001B[1;32m~\\PycharmProjects\\sleep_awake_benchmark\\venv\\lib\\site-packages\\pandas\\io\\parsers\\readers.py:1442\u001B[0m, in \u001B[0;36mTextFileReader.__init__\u001B[1;34m(self, f, engine, **kwds)\u001B[0m\n\u001B[0;32m   1439\u001B[0m     \u001B[38;5;28mself\u001B[39m\u001B[38;5;241m.\u001B[39moptions[\u001B[38;5;124m\"\u001B[39m\u001B[38;5;124mhas_index_names\u001B[39m\u001B[38;5;124m\"\u001B[39m] \u001B[38;5;241m=\u001B[39m kwds[\u001B[38;5;124m\"\u001B[39m\u001B[38;5;124mhas_index_names\u001B[39m\u001B[38;5;124m\"\u001B[39m]\n\u001B[0;32m   1441\u001B[0m \u001B[38;5;28mself\u001B[39m\u001B[38;5;241m.\u001B[39mhandles: IOHandles \u001B[38;5;241m|\u001B[39m \u001B[38;5;28;01mNone\u001B[39;00m \u001B[38;5;241m=\u001B[39m \u001B[38;5;28;01mNone\u001B[39;00m\n\u001B[1;32m-> 1442\u001B[0m \u001B[38;5;28mself\u001B[39m\u001B[38;5;241m.\u001B[39m_engine \u001B[38;5;241m=\u001B[39m \u001B[38;5;28;43mself\u001B[39;49m\u001B[38;5;241;43m.\u001B[39;49m\u001B[43m_make_engine\u001B[49m\u001B[43m(\u001B[49m\u001B[43mf\u001B[49m\u001B[43m,\u001B[49m\u001B[43m \u001B[49m\u001B[38;5;28;43mself\u001B[39;49m\u001B[38;5;241;43m.\u001B[39;49m\u001B[43mengine\u001B[49m\u001B[43m)\u001B[49m\n",
      "File \u001B[1;32m~\\PycharmProjects\\sleep_awake_benchmark\\venv\\lib\\site-packages\\pandas\\io\\parsers\\readers.py:1735\u001B[0m, in \u001B[0;36mTextFileReader._make_engine\u001B[1;34m(self, f, engine)\u001B[0m\n\u001B[0;32m   1733\u001B[0m     \u001B[38;5;28;01mif\u001B[39;00m \u001B[38;5;124m\"\u001B[39m\u001B[38;5;124mb\u001B[39m\u001B[38;5;124m\"\u001B[39m \u001B[38;5;129;01mnot\u001B[39;00m \u001B[38;5;129;01min\u001B[39;00m mode:\n\u001B[0;32m   1734\u001B[0m         mode \u001B[38;5;241m+\u001B[39m\u001B[38;5;241m=\u001B[39m \u001B[38;5;124m\"\u001B[39m\u001B[38;5;124mb\u001B[39m\u001B[38;5;124m\"\u001B[39m\n\u001B[1;32m-> 1735\u001B[0m \u001B[38;5;28mself\u001B[39m\u001B[38;5;241m.\u001B[39mhandles \u001B[38;5;241m=\u001B[39m \u001B[43mget_handle\u001B[49m\u001B[43m(\u001B[49m\n\u001B[0;32m   1736\u001B[0m \u001B[43m    \u001B[49m\u001B[43mf\u001B[49m\u001B[43m,\u001B[49m\n\u001B[0;32m   1737\u001B[0m \u001B[43m    \u001B[49m\u001B[43mmode\u001B[49m\u001B[43m,\u001B[49m\n\u001B[0;32m   1738\u001B[0m \u001B[43m    \u001B[49m\u001B[43mencoding\u001B[49m\u001B[38;5;241;43m=\u001B[39;49m\u001B[38;5;28;43mself\u001B[39;49m\u001B[38;5;241;43m.\u001B[39;49m\u001B[43moptions\u001B[49m\u001B[38;5;241;43m.\u001B[39;49m\u001B[43mget\u001B[49m\u001B[43m(\u001B[49m\u001B[38;5;124;43m\"\u001B[39;49m\u001B[38;5;124;43mencoding\u001B[39;49m\u001B[38;5;124;43m\"\u001B[39;49m\u001B[43m,\u001B[49m\u001B[43m \u001B[49m\u001B[38;5;28;43;01mNone\u001B[39;49;00m\u001B[43m)\u001B[49m\u001B[43m,\u001B[49m\n\u001B[0;32m   1739\u001B[0m \u001B[43m    \u001B[49m\u001B[43mcompression\u001B[49m\u001B[38;5;241;43m=\u001B[39;49m\u001B[38;5;28;43mself\u001B[39;49m\u001B[38;5;241;43m.\u001B[39;49m\u001B[43moptions\u001B[49m\u001B[38;5;241;43m.\u001B[39;49m\u001B[43mget\u001B[49m\u001B[43m(\u001B[49m\u001B[38;5;124;43m\"\u001B[39;49m\u001B[38;5;124;43mcompression\u001B[39;49m\u001B[38;5;124;43m\"\u001B[39;49m\u001B[43m,\u001B[49m\u001B[43m \u001B[49m\u001B[38;5;28;43;01mNone\u001B[39;49;00m\u001B[43m)\u001B[49m\u001B[43m,\u001B[49m\n\u001B[0;32m   1740\u001B[0m \u001B[43m    \u001B[49m\u001B[43mmemory_map\u001B[49m\u001B[38;5;241;43m=\u001B[39;49m\u001B[38;5;28;43mself\u001B[39;49m\u001B[38;5;241;43m.\u001B[39;49m\u001B[43moptions\u001B[49m\u001B[38;5;241;43m.\u001B[39;49m\u001B[43mget\u001B[49m\u001B[43m(\u001B[49m\u001B[38;5;124;43m\"\u001B[39;49m\u001B[38;5;124;43mmemory_map\u001B[39;49m\u001B[38;5;124;43m\"\u001B[39;49m\u001B[43m,\u001B[49m\u001B[43m \u001B[49m\u001B[38;5;28;43;01mFalse\u001B[39;49;00m\u001B[43m)\u001B[49m\u001B[43m,\u001B[49m\n\u001B[0;32m   1741\u001B[0m \u001B[43m    \u001B[49m\u001B[43mis_text\u001B[49m\u001B[38;5;241;43m=\u001B[39;49m\u001B[43mis_text\u001B[49m\u001B[43m,\u001B[49m\n\u001B[0;32m   1742\u001B[0m \u001B[43m    \u001B[49m\u001B[43merrors\u001B[49m\u001B[38;5;241;43m=\u001B[39;49m\u001B[38;5;28;43mself\u001B[39;49m\u001B[38;5;241;43m.\u001B[39;49m\u001B[43moptions\u001B[49m\u001B[38;5;241;43m.\u001B[39;49m\u001B[43mget\u001B[49m\u001B[43m(\u001B[49m\u001B[38;5;124;43m\"\u001B[39;49m\u001B[38;5;124;43mencoding_errors\u001B[39;49m\u001B[38;5;124;43m\"\u001B[39;49m\u001B[43m,\u001B[49m\u001B[43m \u001B[49m\u001B[38;5;124;43m\"\u001B[39;49m\u001B[38;5;124;43mstrict\u001B[39;49m\u001B[38;5;124;43m\"\u001B[39;49m\u001B[43m)\u001B[49m\u001B[43m,\u001B[49m\n\u001B[0;32m   1743\u001B[0m \u001B[43m    \u001B[49m\u001B[43mstorage_options\u001B[49m\u001B[38;5;241;43m=\u001B[39;49m\u001B[38;5;28;43mself\u001B[39;49m\u001B[38;5;241;43m.\u001B[39;49m\u001B[43moptions\u001B[49m\u001B[38;5;241;43m.\u001B[39;49m\u001B[43mget\u001B[49m\u001B[43m(\u001B[49m\u001B[38;5;124;43m\"\u001B[39;49m\u001B[38;5;124;43mstorage_options\u001B[39;49m\u001B[38;5;124;43m\"\u001B[39;49m\u001B[43m,\u001B[49m\u001B[43m \u001B[49m\u001B[38;5;28;43;01mNone\u001B[39;49;00m\u001B[43m)\u001B[49m\u001B[43m,\u001B[49m\n\u001B[0;32m   1744\u001B[0m \u001B[43m\u001B[49m\u001B[43m)\u001B[49m\n\u001B[0;32m   1745\u001B[0m \u001B[38;5;28;01massert\u001B[39;00m \u001B[38;5;28mself\u001B[39m\u001B[38;5;241m.\u001B[39mhandles \u001B[38;5;129;01mis\u001B[39;00m \u001B[38;5;129;01mnot\u001B[39;00m \u001B[38;5;28;01mNone\u001B[39;00m\n\u001B[0;32m   1746\u001B[0m f \u001B[38;5;241m=\u001B[39m \u001B[38;5;28mself\u001B[39m\u001B[38;5;241m.\u001B[39mhandles\u001B[38;5;241m.\u001B[39mhandle\n",
      "File \u001B[1;32m~\\PycharmProjects\\sleep_awake_benchmark\\venv\\lib\\site-packages\\pandas\\io\\common.py:856\u001B[0m, in \u001B[0;36mget_handle\u001B[1;34m(path_or_buf, mode, encoding, compression, memory_map, is_text, errors, storage_options)\u001B[0m\n\u001B[0;32m    851\u001B[0m \u001B[38;5;28;01melif\u001B[39;00m \u001B[38;5;28misinstance\u001B[39m(handle, \u001B[38;5;28mstr\u001B[39m):\n\u001B[0;32m    852\u001B[0m     \u001B[38;5;66;03m# Check whether the filename is to be opened in binary mode.\u001B[39;00m\n\u001B[0;32m    853\u001B[0m     \u001B[38;5;66;03m# Binary mode does not support 'encoding' and 'newline'.\u001B[39;00m\n\u001B[0;32m    854\u001B[0m     \u001B[38;5;28;01mif\u001B[39;00m ioargs\u001B[38;5;241m.\u001B[39mencoding \u001B[38;5;129;01mand\u001B[39;00m \u001B[38;5;124m\"\u001B[39m\u001B[38;5;124mb\u001B[39m\u001B[38;5;124m\"\u001B[39m \u001B[38;5;129;01mnot\u001B[39;00m \u001B[38;5;129;01min\u001B[39;00m ioargs\u001B[38;5;241m.\u001B[39mmode:\n\u001B[0;32m    855\u001B[0m         \u001B[38;5;66;03m# Encoding\u001B[39;00m\n\u001B[1;32m--> 856\u001B[0m         handle \u001B[38;5;241m=\u001B[39m \u001B[38;5;28;43mopen\u001B[39;49m\u001B[43m(\u001B[49m\n\u001B[0;32m    857\u001B[0m \u001B[43m            \u001B[49m\u001B[43mhandle\u001B[49m\u001B[43m,\u001B[49m\n\u001B[0;32m    858\u001B[0m \u001B[43m            \u001B[49m\u001B[43mioargs\u001B[49m\u001B[38;5;241;43m.\u001B[39;49m\u001B[43mmode\u001B[49m\u001B[43m,\u001B[49m\n\u001B[0;32m    859\u001B[0m \u001B[43m            \u001B[49m\u001B[43mencoding\u001B[49m\u001B[38;5;241;43m=\u001B[39;49m\u001B[43mioargs\u001B[49m\u001B[38;5;241;43m.\u001B[39;49m\u001B[43mencoding\u001B[49m\u001B[43m,\u001B[49m\n\u001B[0;32m    860\u001B[0m \u001B[43m            \u001B[49m\u001B[43merrors\u001B[49m\u001B[38;5;241;43m=\u001B[39;49m\u001B[43merrors\u001B[49m\u001B[43m,\u001B[49m\n\u001B[0;32m    861\u001B[0m \u001B[43m            \u001B[49m\u001B[43mnewline\u001B[49m\u001B[38;5;241;43m=\u001B[39;49m\u001B[38;5;124;43m\"\u001B[39;49m\u001B[38;5;124;43m\"\u001B[39;49m\u001B[43m,\u001B[49m\n\u001B[0;32m    862\u001B[0m \u001B[43m        \u001B[49m\u001B[43m)\u001B[49m\n\u001B[0;32m    863\u001B[0m     \u001B[38;5;28;01melse\u001B[39;00m:\n\u001B[0;32m    864\u001B[0m         \u001B[38;5;66;03m# Binary mode\u001B[39;00m\n\u001B[0;32m    865\u001B[0m         handle \u001B[38;5;241m=\u001B[39m \u001B[38;5;28mopen\u001B[39m(handle, ioargs\u001B[38;5;241m.\u001B[39mmode)\n",
      "\u001B[1;31mFileNotFoundError\u001B[0m: [Errno 2] No such file or directory: './data/mesa/mesa-sleep-dataset-0.3.0.csv'"
     ]
    }
   ],
   "source": [
    "TASK = 2\n",
    "outdir = \"datasets\"\n",
    "\n",
    "variables_file = \"./data/mesa/mesa-sleep-dataset-0.3.0.csv\"\n",
    "variables = pd.read_csv(variables_file)\n",
    "ids = list(variables[\"mesaid\"].unique())\n",
    "\n",
    "problem = []\n",
    "okays = 0\n",
    "empties = []\n",
    "processed = 0\n",
    "\n",
    "for mesaid in ids[:]:\n",
    "\n",
    "    processed += 1\n",
    "\n",
    "    print(\"*\" * 80)\n",
    "    df = process(mesaid, task=TASK)\n",
    "    print(\"*\" * 80)\n",
    "\n",
    "    if df is None:\n",
    "        print(\"Could not get data for mesaid %d\" % (mesaid))\n",
    "        problem.append(mesaid)\n",
    "        continue\n",
    "\n",
    "    if df[(df[\"interval\"] == \"EXCLUDED\")].shape[0] > 0:\n",
    "        print(\"FOUND %d rows to be excluded\" % (df[(df[\"interval\"] == \"EXCLUDED\")].shape[0]))\n",
    "\n",
    "    if (df[df[\"interval\"] == \"EXCLUDED\"].shape[0] == df.shape[0]) or df.empty:\n",
    "        print(\"ERROR: All intervals were excluded.\")\n",
    "        print(\"MesaID %d is empty...\" % mesaid)\n",
    "        empties.append(mesaid)\n",
    "        continue\n",
    "\n",
    "    #df = df[df[\"interval\"] != \"EXCLUDED\"] # TODO: not sure if I should keep or remove the excluded rows.\n",
    "\n",
    "    outfile = \"mesa_%000d_task%s.csv\" % (mesaid, TASK)\n",
    "    outpath = os.path.join(outdir, outfile)\n",
    "\n",
    "    df.to_csv(outpath, index=False)\n",
    "    okays += 1\n",
    "\n",
    "print(\"Done with %d okay out of %d possible ids\" % (okays, processed))\n"
   ],
   "metadata": {
    "collapsed": false
   }
  },
  {
   "cell_type": "code",
   "execution_count": null,
   "outputs": [],
   "source": [],
   "metadata": {
    "collapsed": false
   }
  }
 ],
 "metadata": {
  "hide_input": false,
  "kernelspec": {
   "display_name": "Python 3 (ipykernel)",
   "language": "python",
   "name": "python3"
  },
  "language_info": {
   "codemirror_mode": {
    "name": "ipython",
    "version": 3
   },
   "file_extension": ".py",
   "mimetype": "text/x-python",
   "name": "python",
   "nbconvert_exporter": "python",
   "pygments_lexer": "ipython3",
   "version": "3.8.0"
  },
  "varInspector": {
   "cols": {
    "lenName": 16,
    "lenType": 16,
    "lenVar": 40
   },
   "kernels_config": {
    "python": {
     "delete_cmd_postfix": "",
     "delete_cmd_prefix": "del ",
     "library": "var_list.py",
     "varRefreshCmd": "print(var_dic_list())"
    },
    "r": {
     "delete_cmd_postfix": ") ",
     "delete_cmd_prefix": "rm(",
     "library": "var_list.r",
     "varRefreshCmd": "cat(var_dic_list()) "
    }
   },
   "types_to_exclude": [
    "module",
    "function",
    "builtin_function_or_method",
    "instance",
    "_Feature"
   ],
   "window_display": false
  }
 },
 "nbformat": 4,
 "nbformat_minor": 2
}
